{
 "cells": [
  {
   "cell_type": "markdown",
   "metadata": {},
   "source": [
    "### Initialize Spark"
   ]
  },
  {
   "cell_type": "code",
   "execution_count": 1,
   "metadata": {},
   "outputs": [],
   "source": [
    "import findspark"
   ]
  },
  {
   "cell_type": "code",
   "execution_count": 2,
   "metadata": {},
   "outputs": [],
   "source": [
    "findspark.init('/home/ubuntu/spark-2.4.5-bin-hadoop2.7')"
   ]
  },
  {
   "cell_type": "code",
   "execution_count": 3,
   "metadata": {},
   "outputs": [],
   "source": [
    "import pyspark"
   ]
  },
  {
   "cell_type": "code",
   "execution_count": 4,
   "metadata": {},
   "outputs": [],
   "source": [
    "from pyspark.sql import SparkSession"
   ]
  },
  {
   "cell_type": "code",
   "execution_count": 5,
   "metadata": {},
   "outputs": [],
   "source": [
    "spark = SparkSession.builder.appName('Basics').getOrCreate()"
   ]
  },
  {
   "cell_type": "markdown",
   "metadata": {},
   "source": [
    "### Read data & change schema"
   ]
  },
  {
   "cell_type": "code",
   "execution_count": 6,
   "metadata": {},
   "outputs": [],
   "source": [
    "df = spark.read.csv('udemy_courses.csv', header=True)"
   ]
  },
  {
   "cell_type": "code",
   "execution_count": 7,
   "metadata": {},
   "outputs": [
    {
     "name": "stdout",
     "output_type": "stream",
     "text": [
      "+---------+--------------------+--------------------+-------+-----+---------------+-----------+------------+------------------+----------------+--------------------+----------------+\n",
      "|course_id|        course_title|                 url|is_paid|price|num_subscribers|num_reviews|num_lectures|             level|content_duration| published_timestamp|         subject|\n",
      "+---------+--------------------+--------------------+-------+-----+---------------+-----------+------------+------------------+----------------+--------------------+----------------+\n",
      "|  1070968|Ultimate Investme...|https://www.udemy...|   True|  200|           2147|         23|          51|        All Levels|       1.5 hours|2017-01-18T20:58:58Z|Business Finance|\n",
      "|  1113822|Complete GST Cour...|https://www.udemy...|   True|   75|           2792|        923|         274|        All Levels|        39 hours|2017-03-09T16:34:20Z|Business Finance|\n",
      "|  1006314|Financial Modelin...|https://www.udemy...|   True|   45|           2174|         74|          51|Intermediate Level|       2.5 hours|2016-12-19T19:26:30Z|Business Finance|\n",
      "|  1210588|Beginner to Pro -...|https://www.udemy...|   True|   95|           2451|         11|          36|        All Levels|         3 hours|2017-05-30T20:07:24Z|Business Finance|\n",
      "|  1011058|How To Maximize Y...|https://www.udemy...|   True|  200|           1276|         45|          26|Intermediate Level|         2 hours|2016-12-13T14:57:18Z|Business Finance|\n",
      "|   192870|Trading Penny Sto...|https://www.udemy...|   True|  150|           9221|        138|          25|        All Levels|         3 hours|2014-05-02T15:13:30Z|Business Finance|\n",
      "|   739964|Investing And Tra...|https://www.udemy...|   True|   65|           1540|        178|          26|    Beginner Level|          1 hour|2016-02-21T18:23:12Z|Business Finance|\n",
      "|   403100|Trading Stock Cha...|https://www.udemy...|   True|   95|           2917|        148|          23|        All Levels|       2.5 hours|2015-01-30T22:13:03Z|Business Finance|\n",
      "|   476268|Options Trading 3...|https://www.udemy...|   True|  195|           5172|         34|          38|      Expert Level|       2.5 hours|2015-05-28T00:14:03Z|Business Finance|\n",
      "|  1167710|The Only Investme...|https://www.udemy...|   True|  200|            827|         14|          15|        All Levels|          1 hour|2017-04-18T18:13:32Z|Business Finance|\n",
      "|   592338|Forex Trading Sec...|https://www.udemy...|   True|  200|           4284|         93|          76|        All Levels|         5 hours|2015-09-11T16:47:02Z|Business Finance|\n",
      "|   975046|Trading Options W...|https://www.udemy...|   True|  200|           1380|         42|          17|        All Levels|          1 hour|2016-10-18T22:52:31Z|Business Finance|\n",
      "|   742602|Financial Managem...|https://www.udemy...|   True|   30|           3607|         21|          19|        All Levels|       1.5 hours|2016-02-03T18:04:01Z|Business Finance|\n",
      "|   794151|Forex Trading Cou...|https://www.udemy...|   True|  195|           4061|         52|          16|        All Levels|         2 hours|2016-03-16T15:40:19Z|Business Finance|\n",
      "|  1196544|Python Algo Tradi...|https://www.udemy...|   True|  200|            294|         19|          42|        All Levels|         7 hours|2017-04-28T16:41:44Z|Business Finance|\n",
      "|   504036|Short Selling: Le...|https://www.udemy...|   True|   75|           2276|        106|          19|Intermediate Level|       1.5 hours|2015-06-22T21:18:35Z|Business Finance|\n",
      "|   719698|Basic Technical A...|https://www.udemy...|   True|   20|           4919|         79|          16|    Beginner Level|       1.5 hours|2016-01-08T17:21:26Z|Business Finance|\n",
      "|   564966|The Complete Char...|https://www.udemy...|   True|  200|           2666|        115|          52|        All Levels|         4 hours|2015-08-10T21:07:35Z|Business Finance|\n",
      "|   606928|7 Deadly Mistakes...|https://www.udemy...|   True|   50|           5354|         24|          23|        All Levels|       1.5 hours|2015-09-21T18:10:34Z|Business Finance|\n",
      "|    58977|Financial Stateme...|https://www.udemy...|   True|   95|           8095|        249|          12|    Beginner Level|         35 mins|2013-06-09T00:21:26Z|Business Finance|\n",
      "+---------+--------------------+--------------------+-------+-----+---------------+-----------+------------+------------------+----------------+--------------------+----------------+\n",
      "only showing top 20 rows\n",
      "\n"
     ]
    }
   ],
   "source": [
    "df.show()"
   ]
  },
  {
   "cell_type": "code",
   "execution_count": 8,
   "metadata": {},
   "outputs": [
    {
     "name": "stdout",
     "output_type": "stream",
     "text": [
      "root\n",
      " |-- course_id: string (nullable = true)\n",
      " |-- course_title: string (nullable = true)\n",
      " |-- url: string (nullable = true)\n",
      " |-- is_paid: string (nullable = true)\n",
      " |-- price: string (nullable = true)\n",
      " |-- num_subscribers: string (nullable = true)\n",
      " |-- num_reviews: string (nullable = true)\n",
      " |-- num_lectures: string (nullable = true)\n",
      " |-- level: string (nullable = true)\n",
      " |-- content_duration: string (nullable = true)\n",
      " |-- published_timestamp: string (nullable = true)\n",
      " |-- subject: string (nullable = true)\n",
      "\n"
     ]
    }
   ],
   "source": [
    "df.printSchema()"
   ]
  },
  {
   "cell_type": "code",
   "execution_count": 9,
   "metadata": {},
   "outputs": [],
   "source": [
    "from pyspark.sql.types import IntegerType, StringType, DateType, TimestampType, BooleanType, StructType, StructField"
   ]
  },
  {
   "cell_type": "code",
   "execution_count": 10,
   "metadata": {},
   "outputs": [],
   "source": [
    "field = [StructField('course_id', StringType(), True),\n",
    "         StructField('course_title', StringType(), True),\n",
    "         StructField('url', StringType(), True),\n",
    "         StructField('is_paid', BooleanType(), True),\n",
    "         StructField('price', IntegerType(), True),\n",
    "         StructField('num_subscribers', IntegerType(), True),\n",
    "         StructField('num_reviews', IntegerType(), True),\n",
    "         StructField('num_lectures', IntegerType(), True),\n",
    "         StructField('level', StringType(), True),\n",
    "         StructField('content_duration', StringType(), True),\n",
    "         StructField('published_timestamp', TimestampType(), True),\n",
    "         StructField('subject', StringType(), True)\n",
    "        ]"
   ]
  },
  {
   "cell_type": "code",
   "execution_count": 11,
   "metadata": {},
   "outputs": [],
   "source": [
    "schema = StructType(fields=field)"
   ]
  },
  {
   "cell_type": "code",
   "execution_count": 12,
   "metadata": {},
   "outputs": [],
   "source": [
    "df = spark.read.csv('udemy_courses.csv', schema=schema, header=True)"
   ]
  },
  {
   "cell_type": "code",
   "execution_count": 13,
   "metadata": {},
   "outputs": [
    {
     "name": "stdout",
     "output_type": "stream",
     "text": [
      "root\n",
      " |-- course_id: string (nullable = true)\n",
      " |-- course_title: string (nullable = true)\n",
      " |-- url: string (nullable = true)\n",
      " |-- is_paid: boolean (nullable = true)\n",
      " |-- price: integer (nullable = true)\n",
      " |-- num_subscribers: integer (nullable = true)\n",
      " |-- num_reviews: integer (nullable = true)\n",
      " |-- num_lectures: integer (nullable = true)\n",
      " |-- level: string (nullable = true)\n",
      " |-- content_duration: string (nullable = true)\n",
      " |-- published_timestamp: timestamp (nullable = true)\n",
      " |-- subject: string (nullable = true)\n",
      "\n"
     ]
    }
   ],
   "source": [
    "df.printSchema()"
   ]
  },
  {
   "cell_type": "code",
   "execution_count": 14,
   "metadata": {},
   "outputs": [
    {
     "name": "stdout",
     "output_type": "stream",
     "text": [
      "+-------+-----------------+\n",
      "|summary|            price|\n",
      "+-------+-----------------+\n",
      "|  count|             3378|\n",
      "|   mean|72.07815275310834|\n",
      "| stddev|60.20277493162526|\n",
      "|    min|               20|\n",
      "|    max|              200|\n",
      "+-------+-----------------+\n",
      "\n"
     ]
    }
   ],
   "source": [
    "df.describe('price').show()"
   ]
  },
  {
   "cell_type": "code",
   "execution_count": 15,
   "metadata": {},
   "outputs": [
    {
     "data": {
      "text/plain": [
       "['course_id',\n",
       " 'course_title',\n",
       " 'url',\n",
       " 'is_paid',\n",
       " 'price',\n",
       " 'num_subscribers',\n",
       " 'num_reviews',\n",
       " 'num_lectures',\n",
       " 'level',\n",
       " 'content_duration',\n",
       " 'published_timestamp',\n",
       " 'subject']"
      ]
     },
     "execution_count": 15,
     "metadata": {},
     "output_type": "execute_result"
    }
   ],
   "source": [
    "df.columns"
   ]
  },
  {
   "cell_type": "code",
   "execution_count": 16,
   "metadata": {},
   "outputs": [
    {
     "name": "stdout",
     "output_type": "stream",
     "text": [
      "+-------+-----------------+\n",
      "|summary|  num_subscribers|\n",
      "+-------+-----------------+\n",
      "|  count|             3689|\n",
      "|   mean|3189.809704526972|\n",
      "| stddev|9490.950565928886|\n",
      "|    min|                0|\n",
      "|    max|           268923|\n",
      "+-------+-----------------+\n",
      "\n"
     ]
    }
   ],
   "source": [
    "df.describe('num_subscribers').show()"
   ]
  },
  {
   "cell_type": "markdown",
   "metadata": {},
   "source": [
    "### DataFrame manipulation"
   ]
  },
  {
   "cell_type": "code",
   "execution_count": 17,
   "metadata": {},
   "outputs": [
    {
     "name": "stdout",
     "output_type": "stream",
     "text": [
      "+---------+--------------------+--------------------+-------+-----+---------------+-----------+------------+------------------+----------------+-------------------+----------------+\n",
      "|course_id|        course_title|                 url|is_paid|price|num_subscribers|num_reviews|num_lectures|             level|content_duration|published_timestamp|         subject|\n",
      "+---------+--------------------+--------------------+-------+-----+---------------+-----------+------------+------------------+----------------+-------------------+----------------+\n",
      "|  1070968|Ultimate Investme...|https://www.udemy...|   true|  200|           2147|         23|          51|        All Levels|       1.5 hours|2017-01-18 20:58:58|Business Finance|\n",
      "|  1113822|Complete GST Cour...|https://www.udemy...|   true|   75|           2792|        923|         274|        All Levels|        39 hours|2017-03-09 16:34:20|Business Finance|\n",
      "|  1006314|Financial Modelin...|https://www.udemy...|   true|   45|           2174|         74|          51|Intermediate Level|       2.5 hours|2016-12-19 19:26:30|Business Finance|\n",
      "+---------+--------------------+--------------------+-------+-----+---------------+-----------+------------+------------------+----------------+-------------------+----------------+\n",
      "only showing top 3 rows\n",
      "\n"
     ]
    }
   ],
   "source": [
    "df.show(3, truncate=True)"
   ]
  },
  {
   "cell_type": "code",
   "execution_count": 18,
   "metadata": {},
   "outputs": [
    {
     "data": {
      "text/plain": [
       "(3689, 12)"
      ]
     },
     "execution_count": 18,
     "metadata": {},
     "output_type": "execute_result"
    }
   ],
   "source": [
    "df.count(), len(df.columns)"
   ]
  },
  {
   "cell_type": "code",
   "execution_count": 19,
   "metadata": {},
   "outputs": [
    {
     "data": {
      "text/plain": [
       "['course_id',\n",
       " 'course_title',\n",
       " 'url',\n",
       " 'is_paid',\n",
       " 'price',\n",
       " 'num_subscribers',\n",
       " 'num_reviews',\n",
       " 'num_lectures',\n",
       " 'level',\n",
       " 'content_duration',\n",
       " 'published_timestamp',\n",
       " 'subject']"
      ]
     },
     "execution_count": 19,
     "metadata": {},
     "output_type": "execute_result"
    }
   ],
   "source": [
    "df.columns"
   ]
  },
  {
   "cell_type": "code",
   "execution_count": 20,
   "metadata": {},
   "outputs": [
    {
     "name": "stdout",
     "output_type": "stream",
     "text": [
      "+-------+-----------------+---------------------------------+--------------------+-----------------+-----------------+------------------+------------------+------------------+----------------+----------------+\n",
      "|summary|        course_id|                     course_title|                 url|            price|  num_subscribers|       num_reviews|      num_lectures|             level|content_duration|         subject|\n",
      "+-------+-----------------+---------------------------------+--------------------+-----------------+-----------------+------------------+------------------+------------------+----------------+----------------+\n",
      "|  count|             3378|                             3378|                3378|             3378|             3378|              3378|              3378|              3378|            3378|            3372|\n",
      "|   mean|674494.0941385435|                             null|                null|72.07815275310834|2425.000888099467|131.08466548253404| 41.77205447010065|              null|             0.0|            null|\n",
      "| stddev|341059.9160009458|                             null|                null|60.20277493162526|6351.603756193211| 924.7177555270208|51.971013315449625|              null|             NaN|            null|\n",
      "|    min|          1000010|             #1 Piano Hand Coo...|https://www.udemy...|               20|                0|                 0|                 0|        All Levels|               0|Business Finance|\n",
      "|    max|            99986|７日でマスター  ビギナー向け A...|https://www.udemy...|              200|           121584|             27445|               779|Intermediate Level|       9.5 hours| Web Development|\n",
      "+-------+-----------------+---------------------------------+--------------------+-----------------+-----------------+------------------+------------------+------------------+----------------+----------------+\n",
      "\n"
     ]
    }
   ],
   "source": [
    "df.describe().show()"
   ]
  },
  {
   "cell_type": "code",
   "execution_count": 21,
   "metadata": {},
   "outputs": [
    {
     "name": "stdout",
     "output_type": "stream",
     "text": [
      "+-------+-----------------+\n",
      "|summary|            price|\n",
      "+-------+-----------------+\n",
      "|  count|             3378|\n",
      "|   mean|72.07815275310834|\n",
      "| stddev|60.20277493162526|\n",
      "|    min|               20|\n",
      "|    max|              200|\n",
      "+-------+-----------------+\n",
      "\n"
     ]
    }
   ],
   "source": [
    "df.describe('price').show()"
   ]
  },
  {
   "cell_type": "code",
   "execution_count": 22,
   "metadata": {},
   "outputs": [
    {
     "name": "stdout",
     "output_type": "stream",
     "text": [
      "+-------+-----------------+------------------+------------------+\n",
      "|summary|  num_subscribers|       num_reviews|      num_lectures|\n",
      "+-------+-----------------+------------------+------------------+\n",
      "|  count|             3689|              3689|              3689|\n",
      "|   mean|3189.809704526972|156.22255353754406| 40.05801030089455|\n",
      "| stddev|9490.950565928886| 934.3341656220671|50.331707687614994|\n",
      "|    min|                0|                 0|                 0|\n",
      "|    max|           268923|             27445|               779|\n",
      "+-------+-----------------+------------------+------------------+\n",
      "\n"
     ]
    }
   ],
   "source": [
    "df.describe('num_subscribers', 'num_reviews', 'num_lectures').show()"
   ]
  },
  {
   "cell_type": "code",
   "execution_count": 23,
   "metadata": {},
   "outputs": [
    {
     "name": "stdout",
     "output_type": "stream",
     "text": [
      "+-----+\n",
      "|price|\n",
      "+-----+\n",
      "|  200|\n",
      "|   75|\n",
      "|   45|\n",
      "|   95|\n",
      "|  200|\n",
      "|  150|\n",
      "|   65|\n",
      "|   95|\n",
      "|  195|\n",
      "|  200|\n",
      "|  200|\n",
      "|  200|\n",
      "|   30|\n",
      "|  195|\n",
      "|  200|\n",
      "|   75|\n",
      "|   20|\n",
      "|  200|\n",
      "|   50|\n",
      "|   95|\n",
      "+-----+\n",
      "only showing top 20 rows\n",
      "\n"
     ]
    }
   ],
   "source": [
    "df.select('price').show()"
   ]
  },
  {
   "cell_type": "code",
   "execution_count": 24,
   "metadata": {},
   "outputs": [
    {
     "name": "stdout",
     "output_type": "stream",
     "text": [
      "+------------------+-----+\n",
      "|             level|price|\n",
      "+------------------+-----+\n",
      "|        All Levels|  200|\n",
      "|        All Levels|   75|\n",
      "|Intermediate Level|   45|\n",
      "|        All Levels|   95|\n",
      "|Intermediate Level|  200|\n",
      "|        All Levels|  150|\n",
      "|    Beginner Level|   65|\n",
      "|        All Levels|   95|\n",
      "|      Expert Level|  195|\n",
      "|        All Levels|  200|\n",
      "|        All Levels|  200|\n",
      "|        All Levels|  200|\n",
      "|        All Levels|   30|\n",
      "|        All Levels|  195|\n",
      "|        All Levels|  200|\n",
      "|Intermediate Level|   75|\n",
      "|    Beginner Level|   20|\n",
      "|        All Levels|  200|\n",
      "|        All Levels|   50|\n",
      "|    Beginner Level|   95|\n",
      "+------------------+-----+\n",
      "only showing top 20 rows\n",
      "\n"
     ]
    }
   ],
   "source": [
    "df.select(['level','price']).show()"
   ]
  },
  {
   "cell_type": "code",
   "execution_count": 25,
   "metadata": {},
   "outputs": [
    {
     "data": {
      "text/plain": [
       "3373"
      ]
     },
     "execution_count": 25,
     "metadata": {},
     "output_type": "execute_result"
    }
   ],
   "source": [
    "df.distinct().count()"
   ]
  },
  {
   "cell_type": "code",
   "execution_count": 26,
   "metadata": {},
   "outputs": [
    {
     "data": {
      "text/plain": [
       "5"
      ]
     },
     "execution_count": 26,
     "metadata": {},
     "output_type": "execute_result"
    }
   ],
   "source": [
    "df.select('level').distinct().count()"
   ]
  },
  {
   "cell_type": "code",
   "execution_count": 27,
   "metadata": {},
   "outputs": [
    {
     "name": "stdout",
     "output_type": "stream",
     "text": [
      "+------------------+-----+----+----+\n",
      "|     level_is_paid|false|null|true|\n",
      "+------------------+-----+----+----+\n",
      "|              null|    0|   1|   0|\n",
      "|      Expert Level|    0|   0|  58|\n",
      "|Intermediate Level|   30|   0| 392|\n",
      "|    Beginner Level|  158|   0|1116|\n",
      "|        All Levels|  122|   0|1812|\n",
      "+------------------+-----+----+----+\n",
      "\n"
     ]
    }
   ],
   "source": [
    "df.crosstab('level', 'is_paid').show()"
   ]
  },
  {
   "cell_type": "code",
   "execution_count": 28,
   "metadata": {},
   "outputs": [
    {
     "name": "stdout",
     "output_type": "stream",
     "text": [
      "+------------------+----------------+\n",
      "|             level|content_duration|\n",
      "+------------------+----------------+\n",
      "|    Beginner Level|       2.5 hours|\n",
      "|        All Levels|         36 mins|\n",
      "|        All Levels|      22.5 hours|\n",
      "|    Beginner Level|       5.5 hours|\n",
      "|Intermediate Level|         35 mins|\n",
      "|    Beginner Level|      20.5 hours|\n",
      "|Intermediate Level|         30 mins|\n",
      "|        All Levels|        51 hours|\n",
      "|        All Levels|       9.5 hours|\n",
      "|        All Levels|      20.5 hours|\n",
      "|        All Levels|         8 hours|\n",
      "|        All Levels|        21 hours|\n",
      "|      Expert Level|       3.5 hours|\n",
      "|    Beginner Level|        15 hours|\n",
      "|    Beginner Level|      44.5 hours|\n",
      "|        All Levels|      46.5 hours|\n",
      "|    Beginner Level|         34 mins|\n",
      "|        All Levels|        20 hours|\n",
      "|    Beginner Level|         40 mins|\n",
      "|    Beginner Level|         2 hours|\n",
      "+------------------+----------------+\n",
      "only showing top 20 rows\n",
      "\n"
     ]
    }
   ],
   "source": [
    "df.select('level', 'content_duration').dropDuplicates().show()"
   ]
  },
  {
   "cell_type": "code",
   "execution_count": 29,
   "metadata": {},
   "outputs": [
    {
     "name": "stdout",
     "output_type": "stream",
     "text": [
      "+---------+--------------------+--------------------+-------+-----+---------------+-----------+------------+--------------+----------------+-------------------+-------------------+\n",
      "|course_id|        course_title|                 url|is_paid|price|num_subscribers|num_reviews|num_lectures|         level|content_duration|published_timestamp|            subject|\n",
      "+---------+--------------------+--------------------+-------+-----+---------------+-----------+------------+--------------+----------------+-------------------+-------------------+\n",
      "|   506568|Create A Business...|https://www.udemy...|   true|   75|          10149|         83|          16|    All Levels|         2 hours|2015-05-26 17:25:46|   Business Finance|\n",
      "|   308690|Forex Trading A-Z...|https://www.udemy...|   true|  195|          16900|       2476|          52|Beginner Level|       5.5 hours|2014-12-12 23:58:39|   Business Finance|\n",
      "|   888716|Introduction to F...|https://www.udemy...|   true|  200|          11441|       1118|          61|    All Levels|       4.5 hours|2016-06-28 06:12:23|   Business Finance|\n",
      "|   321410|Beginner to Pro i...|https://www.udemy...|   true|  195|          22257|       2697|         138|    All Levels|       7.5 hours|2014-11-25 23:00:40|   Business Finance|\n",
      "|   648826|The Complete Fina...|https://www.udemy...|   true|  195|          24481|       2347|         174|    All Levels|        10 hours|2016-01-21 01:38:48|   Business Finance|\n",
      "|   301442|Black Algo Tradin...|https://www.udemy...|   true|  200|          20195|       1113|         227|    All Levels|        16 hours|2014-10-27 22:01:36|   Business Finance|\n",
      "|   640100|Accounting & Fina...|https://www.udemy...|   true|  150|          10042|        594|          43|    All Levels|         3 hours|2015-10-22 00:03:48|   Business Finance|\n",
      "|   260470|Forex Robots: Exp...|https://www.udemy...|   true|  200|          10603|        872|          42|    All Levels|       5.5 hours|2014-10-12 21:19:11|   Business Finance|\n",
      "|   325834|Learn to Trade fo...|https://www.udemy...|   true|   95|          10605|         71|          77|    All Levels|         3 hours|2014-10-24 18:13:49|   Business Finance|\n",
      "|    43319|Options Trading B...|https://www.udemy...|   true|  180|          10100|        985|          45|Beginner Level|        11 hours|2013-02-25 11:36:06|   Business Finance|\n",
      "|   401784|Options Trading I...|https://www.udemy...|   true|   95|          12394|        218|          30|Beginner Level|       2.5 hours|2015-02-20 21:39:41|   Business Finance|\n",
      "|   116128|CPA 101: How To M...|https://www.udemy...|   true|  100|          11517|         92|          21|    All Levels|       1.5 hours|2013-11-09 21:46:52|   Business Finance|\n",
      "|  1120554|Canva Graphics De...|https://www.udemy...|   true|  200|          12340|        124|          46|    All Levels|       2.5 hours|2017-03-07 03:54:27|     Graphic Design|\n",
      "|   749542|Graphic Design Bo...|https://www.udemy...|   true|  200|          15276|       1740|          65|Beginner Level|         8 hours|2016-05-13 00:03:03|     Graphic Design|\n",
      "|   874012|The Ultimate Draw...|https://www.udemy...|   true|  150|          26742|       2379|          62|Beginner Level|        11 hours|2017-01-23 00:20:05|     Graphic Design|\n",
      "|   820194|Photoshop for Ent...|https://www.udemy...|   true|  200|          36288|        737|          63|    All Levels|         5 hours|2016-06-09 01:57:03|     Graphic Design|\n",
      "|    62721|Anatomy for Figur...|https://www.udemy...|   true|   95|          15500|        754|          65|    All Levels|      68.5 hours|2013-10-16 11:37:30|     Graphic Design|\n",
      "|   897238|Canva Graphics De...|https://www.udemy...|   true|  200|          18303|        202|          54|    All Levels|       3.5 hours|2016-07-23 00:41:07|     Graphic Design|\n",
      "|   178044|How To Make Graph...|https://www.udemy...|   true|  200|          24857|         35|          11|    All Levels|       1.5 hours|2014-03-15 21:53:19|     Graphic Design|\n",
      "|   238934|Pianoforall - Inc...|https://www.udemy...|   true|  200|          75499|       7676|         362|    All Levels|        30 hours|2014-08-07 06:27:51|Musical Instruments|\n",
      "+---------+--------------------+--------------------+-------+-----+---------------+-----------+------------+--------------+----------------+-------------------+-------------------+\n",
      "only showing top 20 rows\n",
      "\n"
     ]
    }
   ],
   "source": [
    "df.filter((df['price']>70) & (df['num_subscribers']>10000)).show()"
   ]
  },
  {
   "cell_type": "code",
   "execution_count": 30,
   "metadata": {},
   "outputs": [
    {
     "name": "stdout",
     "output_type": "stream",
     "text": [
      "+------------------+-----------------+\n",
      "|             level|       avg(price)|\n",
      "+------------------+-----------------+\n",
      "|      Expert Level|91.12068965517241|\n",
      "|Intermediate Level| 66.7984693877551|\n",
      "|              null|             null|\n",
      "|        All Levels|77.90562913907284|\n",
      "|    Beginner Level|63.48118279569893|\n",
      "+------------------+-----------------+\n",
      "\n"
     ]
    }
   ],
   "source": [
    "df.groupby('level').agg({'price':'mean'}).show()"
   ]
  },
  {
   "cell_type": "code",
   "execution_count": 31,
   "metadata": {},
   "outputs": [
    {
     "name": "stdout",
     "output_type": "stream",
     "text": [
      "+------------------+-----------------+--------------------+------------------+------------------+\n",
      "|             level|       avg(price)|avg(num_subscribers)|  avg(num_reviews)| avg(num_lectures)|\n",
      "+------------------+-----------------+--------------------+------------------+------------------+\n",
      "|      Expert Level|91.12068965517241|    865.448275862069|40.224137931034484|30.775862068965516|\n",
      "|Intermediate Level| 66.7984693877551|   1375.204081632653| 82.44897959183673|37.329081632653065|\n",
      "|              null|             null|                null|              null|              null|\n",
      "|        All Levels|77.90562913907284|  2919.7041942604856|189.72130242825608| 47.33664459161148|\n",
      "|    Beginner Level|63.48118279569893|   2071.570788530466| 57.68458781362007|34.869175627240146|\n",
      "+------------------+-----------------+--------------------+------------------+------------------+\n",
      "\n"
     ]
    }
   ],
   "source": [
    "df.groupby('level').mean().show()"
   ]
  },
  {
   "cell_type": "code",
   "execution_count": 32,
   "metadata": {},
   "outputs": [
    {
     "name": "stdout",
     "output_type": "stream",
     "text": [
      "+------------------+-----+\n",
      "|             level|count|\n",
      "+------------------+-----+\n",
      "|      Expert Level|   58|\n",
      "|Intermediate Level|  422|\n",
      "|                52|    1|\n",
      "|        All Levels| 1934|\n",
      "|    Beginner Level| 1274|\n",
      "+------------------+-----+\n",
      "\n"
     ]
    }
   ],
   "source": [
    "df.groupby('level').count().show()"
   ]
  },
  {
   "cell_type": "code",
   "execution_count": 33,
   "metadata": {},
   "outputs": [
    {
     "name": "stdout",
     "output_type": "stream",
     "text": [
      "+------------------+\n",
      "|             level|\n",
      "+------------------+\n",
      "|      Expert Level|\n",
      "|Intermediate Level|\n",
      "|                52|\n",
      "|        All Levels|\n",
      "|    Beginner Level|\n",
      "+------------------+\n",
      "\n"
     ]
    }
   ],
   "source": [
    "df.select('level').distinct().show()"
   ]
  },
  {
   "cell_type": "code",
   "execution_count": 34,
   "metadata": {},
   "outputs": [],
   "source": [
    "seventyfour = df.filter(df['price']==75).collect()"
   ]
  },
  {
   "cell_type": "code",
   "execution_count": 35,
   "metadata": {},
   "outputs": [],
   "source": [
    "from pyspark.sql.functions import countDistinct, least, stddev, variance, mean, sum, max, min"
   ]
  },
  {
   "cell_type": "code",
   "execution_count": 36,
   "metadata": {},
   "outputs": [],
   "source": [
    "from pyspark.sql.functions import format_number"
   ]
  },
  {
   "cell_type": "code",
   "execution_count": 37,
   "metadata": {},
   "outputs": [],
   "source": [
    "price_avg = df.select(mean('price'))"
   ]
  },
  {
   "cell_type": "code",
   "execution_count": 38,
   "metadata": {},
   "outputs": [
    {
     "name": "stdout",
     "output_type": "stream",
     "text": [
      "+-----------------+\n",
      "|       avg(price)|\n",
      "+-----------------+\n",
      "|72.07815275310834|\n",
      "+-----------------+\n",
      "\n"
     ]
    }
   ],
   "source": [
    "price_avg.show()"
   ]
  },
  {
   "cell_type": "code",
   "execution_count": 39,
   "metadata": {},
   "outputs": [
    {
     "name": "stdout",
     "output_type": "stream",
     "text": [
      "+-------------+\n",
      "|average_price|\n",
      "+-------------+\n",
      "|        72.08|\n",
      "+-------------+\n",
      "\n"
     ]
    }
   ],
   "source": [
    "price_avg.select(format_number('avg(price)',2).alias('average_price')).show()"
   ]
  },
  {
   "cell_type": "markdown",
   "metadata": {},
   "source": [
    "### Missing Data"
   ]
  },
  {
   "cell_type": "code",
   "execution_count": 40,
   "metadata": {},
   "outputs": [],
   "source": [
    "df_trial = df.na.drop()"
   ]
  },
  {
   "cell_type": "code",
   "execution_count": 41,
   "metadata": {},
   "outputs": [
    {
     "data": {
      "text/plain": [
       "3372"
      ]
     },
     "execution_count": 41,
     "metadata": {},
     "output_type": "execute_result"
    }
   ],
   "source": [
    "df_trial.count()"
   ]
  },
  {
   "cell_type": "code",
   "execution_count": 42,
   "metadata": {},
   "outputs": [
    {
     "data": {
      "text/plain": [
       "3689"
      ]
     },
     "execution_count": 42,
     "metadata": {},
     "output_type": "execute_result"
    }
   ],
   "source": [
    "df.count()"
   ]
  },
  {
   "cell_type": "code",
   "execution_count": 43,
   "metadata": {},
   "outputs": [
    {
     "data": {
      "text/plain": [
       "DataFrame[course_id: string, course_title: string, url: string, is_paid: boolean, price: int, num_subscribers: int, num_reviews: int, num_lectures: int, level: string, content_duration: string, published_timestamp: timestamp, subject: string]"
      ]
     },
     "execution_count": 43,
     "metadata": {},
     "output_type": "execute_result"
    }
   ],
   "source": [
    "df.na.fill(9999)"
   ]
  },
  {
   "cell_type": "code",
   "execution_count": 44,
   "metadata": {},
   "outputs": [
    {
     "data": {
      "text/plain": [
       "['course_id',\n",
       " 'course_title',\n",
       " 'url',\n",
       " 'is_paid',\n",
       " 'price',\n",
       " 'num_subscribers',\n",
       " 'num_reviews',\n",
       " 'num_lectures',\n",
       " 'level',\n",
       " 'content_duration',\n",
       " 'published_timestamp',\n",
       " 'subject']"
      ]
     },
     "execution_count": 44,
     "metadata": {},
     "output_type": "execute_result"
    }
   ],
   "source": [
    "df.columns"
   ]
  },
  {
   "cell_type": "markdown",
   "metadata": {},
   "source": [
    "### DateTime Pyspark"
   ]
  },
  {
   "cell_type": "code",
   "execution_count": 45,
   "metadata": {},
   "outputs": [],
   "source": [
    "from pyspark.sql.functions import format_number, date_format, dayofyear, dayofweek, hour, month, year, weekofyear"
   ]
  },
  {
   "cell_type": "code",
   "execution_count": 46,
   "metadata": {},
   "outputs": [
    {
     "name": "stdout",
     "output_type": "stream",
     "text": [
      "+---------+--------------------+--------------------+-------+-----+---------------+-----------+------------+------------------+----------------+-------------------+----------------+\n",
      "|course_id|        course_title|                 url|is_paid|price|num_subscribers|num_reviews|num_lectures|             level|content_duration|published_timestamp|         subject|\n",
      "+---------+--------------------+--------------------+-------+-----+---------------+-----------+------------+------------------+----------------+-------------------+----------------+\n",
      "|  1070968|Ultimate Investme...|https://www.udemy...|   true|  200|           2147|         23|          51|        All Levels|       1.5 hours|2017-01-18 20:58:58|Business Finance|\n",
      "|  1113822|Complete GST Cour...|https://www.udemy...|   true|   75|           2792|        923|         274|        All Levels|        39 hours|2017-03-09 16:34:20|Business Finance|\n",
      "|  1006314|Financial Modelin...|https://www.udemy...|   true|   45|           2174|         74|          51|Intermediate Level|       2.5 hours|2016-12-19 19:26:30|Business Finance|\n",
      "|  1210588|Beginner to Pro -...|https://www.udemy...|   true|   95|           2451|         11|          36|        All Levels|         3 hours|2017-05-30 20:07:24|Business Finance|\n",
      "|  1011058|How To Maximize Y...|https://www.udemy...|   true|  200|           1276|         45|          26|Intermediate Level|         2 hours|2016-12-13 14:57:18|Business Finance|\n",
      "|   192870|Trading Penny Sto...|https://www.udemy...|   true|  150|           9221|        138|          25|        All Levels|         3 hours|2014-05-02 15:13:30|Business Finance|\n",
      "|   739964|Investing And Tra...|https://www.udemy...|   true|   65|           1540|        178|          26|    Beginner Level|          1 hour|2016-02-21 18:23:12|Business Finance|\n",
      "|   403100|Trading Stock Cha...|https://www.udemy...|   true|   95|           2917|        148|          23|        All Levels|       2.5 hours|2015-01-30 22:13:03|Business Finance|\n",
      "|   476268|Options Trading 3...|https://www.udemy...|   true|  195|           5172|         34|          38|      Expert Level|       2.5 hours|2015-05-28 00:14:03|Business Finance|\n",
      "|  1167710|The Only Investme...|https://www.udemy...|   true|  200|            827|         14|          15|        All Levels|          1 hour|2017-04-18 18:13:32|Business Finance|\n",
      "|   592338|Forex Trading Sec...|https://www.udemy...|   true|  200|           4284|         93|          76|        All Levels|         5 hours|2015-09-11 16:47:02|Business Finance|\n",
      "|   975046|Trading Options W...|https://www.udemy...|   true|  200|           1380|         42|          17|        All Levels|          1 hour|2016-10-18 22:52:31|Business Finance|\n",
      "|   742602|Financial Managem...|https://www.udemy...|   true|   30|           3607|         21|          19|        All Levels|       1.5 hours|2016-02-03 18:04:01|Business Finance|\n",
      "|   794151|Forex Trading Cou...|https://www.udemy...|   true|  195|           4061|         52|          16|        All Levels|         2 hours|2016-03-16 15:40:19|Business Finance|\n",
      "|  1196544|Python Algo Tradi...|https://www.udemy...|   true|  200|            294|         19|          42|        All Levels|         7 hours|2017-04-28 16:41:44|Business Finance|\n",
      "|   504036|Short Selling: Le...|https://www.udemy...|   true|   75|           2276|        106|          19|Intermediate Level|       1.5 hours|2015-06-22 21:18:35|Business Finance|\n",
      "|   719698|Basic Technical A...|https://www.udemy...|   true|   20|           4919|         79|          16|    Beginner Level|       1.5 hours|2016-01-08 17:21:26|Business Finance|\n",
      "|   564966|The Complete Char...|https://www.udemy...|   true|  200|           2666|        115|          52|        All Levels|         4 hours|2015-08-10 21:07:35|Business Finance|\n",
      "|   606928|7 Deadly Mistakes...|https://www.udemy...|   true|   50|           5354|         24|          23|        All Levels|       1.5 hours|2015-09-21 18:10:34|Business Finance|\n",
      "|    58977|Financial Stateme...|https://www.udemy...|   true|   95|           8095|        249|          12|    Beginner Level|         35 mins|2013-06-09 00:21:26|Business Finance|\n",
      "+---------+--------------------+--------------------+-------+-----+---------------+-----------+------------+------------------+----------------+-------------------+----------------+\n",
      "only showing top 20 rows\n",
      "\n"
     ]
    }
   ],
   "source": [
    "df.show()"
   ]
  },
  {
   "cell_type": "code",
   "execution_count": 47,
   "metadata": {},
   "outputs": [],
   "source": [
    "df_date = df.withColumn(\"year\", year(df['published_timestamp']))"
   ]
  },
  {
   "cell_type": "code",
   "execution_count": 48,
   "metadata": {},
   "outputs": [
    {
     "name": "stdout",
     "output_type": "stream",
     "text": [
      "+---------+--------------------+--------------------+-------+-----+---------------+-----------+------------+------------------+----------------+-------------------+----------------+----+\n",
      "|course_id|        course_title|                 url|is_paid|price|num_subscribers|num_reviews|num_lectures|             level|content_duration|published_timestamp|         subject|year|\n",
      "+---------+--------------------+--------------------+-------+-----+---------------+-----------+------------+------------------+----------------+-------------------+----------------+----+\n",
      "|  1070968|Ultimate Investme...|https://www.udemy...|   true|  200|           2147|         23|          51|        All Levels|       1.5 hours|2017-01-18 20:58:58|Business Finance|2017|\n",
      "|  1113822|Complete GST Cour...|https://www.udemy...|   true|   75|           2792|        923|         274|        All Levels|        39 hours|2017-03-09 16:34:20|Business Finance|2017|\n",
      "|  1006314|Financial Modelin...|https://www.udemy...|   true|   45|           2174|         74|          51|Intermediate Level|       2.5 hours|2016-12-19 19:26:30|Business Finance|2016|\n",
      "|  1210588|Beginner to Pro -...|https://www.udemy...|   true|   95|           2451|         11|          36|        All Levels|         3 hours|2017-05-30 20:07:24|Business Finance|2017|\n",
      "|  1011058|How To Maximize Y...|https://www.udemy...|   true|  200|           1276|         45|          26|Intermediate Level|         2 hours|2016-12-13 14:57:18|Business Finance|2016|\n",
      "|   192870|Trading Penny Sto...|https://www.udemy...|   true|  150|           9221|        138|          25|        All Levels|         3 hours|2014-05-02 15:13:30|Business Finance|2014|\n",
      "|   739964|Investing And Tra...|https://www.udemy...|   true|   65|           1540|        178|          26|    Beginner Level|          1 hour|2016-02-21 18:23:12|Business Finance|2016|\n",
      "|   403100|Trading Stock Cha...|https://www.udemy...|   true|   95|           2917|        148|          23|        All Levels|       2.5 hours|2015-01-30 22:13:03|Business Finance|2015|\n",
      "|   476268|Options Trading 3...|https://www.udemy...|   true|  195|           5172|         34|          38|      Expert Level|       2.5 hours|2015-05-28 00:14:03|Business Finance|2015|\n",
      "|  1167710|The Only Investme...|https://www.udemy...|   true|  200|            827|         14|          15|        All Levels|          1 hour|2017-04-18 18:13:32|Business Finance|2017|\n",
      "|   592338|Forex Trading Sec...|https://www.udemy...|   true|  200|           4284|         93|          76|        All Levels|         5 hours|2015-09-11 16:47:02|Business Finance|2015|\n",
      "|   975046|Trading Options W...|https://www.udemy...|   true|  200|           1380|         42|          17|        All Levels|          1 hour|2016-10-18 22:52:31|Business Finance|2016|\n",
      "|   742602|Financial Managem...|https://www.udemy...|   true|   30|           3607|         21|          19|        All Levels|       1.5 hours|2016-02-03 18:04:01|Business Finance|2016|\n",
      "|   794151|Forex Trading Cou...|https://www.udemy...|   true|  195|           4061|         52|          16|        All Levels|         2 hours|2016-03-16 15:40:19|Business Finance|2016|\n",
      "|  1196544|Python Algo Tradi...|https://www.udemy...|   true|  200|            294|         19|          42|        All Levels|         7 hours|2017-04-28 16:41:44|Business Finance|2017|\n",
      "|   504036|Short Selling: Le...|https://www.udemy...|   true|   75|           2276|        106|          19|Intermediate Level|       1.5 hours|2015-06-22 21:18:35|Business Finance|2015|\n",
      "|   719698|Basic Technical A...|https://www.udemy...|   true|   20|           4919|         79|          16|    Beginner Level|       1.5 hours|2016-01-08 17:21:26|Business Finance|2016|\n",
      "|   564966|The Complete Char...|https://www.udemy...|   true|  200|           2666|        115|          52|        All Levels|         4 hours|2015-08-10 21:07:35|Business Finance|2015|\n",
      "|   606928|7 Deadly Mistakes...|https://www.udemy...|   true|   50|           5354|         24|          23|        All Levels|       1.5 hours|2015-09-21 18:10:34|Business Finance|2015|\n",
      "|    58977|Financial Stateme...|https://www.udemy...|   true|   95|           8095|        249|          12|    Beginner Level|         35 mins|2013-06-09 00:21:26|Business Finance|2013|\n",
      "+---------+--------------------+--------------------+-------+-----+---------------+-----------+------------+------------------+----------------+-------------------+----------------+----+\n",
      "only showing top 20 rows\n",
      "\n"
     ]
    }
   ],
   "source": [
    "df_date.show()"
   ]
  },
  {
   "cell_type": "code",
   "execution_count": 49,
   "metadata": {},
   "outputs": [],
   "source": [
    "df_year = df_date.groupBy('year').mean().select(['year','avg(price)'])"
   ]
  },
  {
   "cell_type": "code",
   "execution_count": 50,
   "metadata": {},
   "outputs": [],
   "source": [
    "df_year = df_year.withColumnRenamed('avg(price)', 'average_price')"
   ]
  },
  {
   "cell_type": "code",
   "execution_count": 51,
   "metadata": {},
   "outputs": [
    {
     "name": "stdout",
     "output_type": "stream",
     "text": [
      "+----+------------------+\n",
      "|year|     average_price|\n",
      "+----+------------------+\n",
      "|2015| 71.19622245540398|\n",
      "|2013|59.435483870967744|\n",
      "|null|              null|\n",
      "|2014| 54.21945701357466|\n",
      "|2012| 44.75609756097561|\n",
      "|2016| 75.90990990990991|\n",
      "|2011|              62.0|\n",
      "|2017|  84.5631825273011|\n",
      "+----+------------------+\n",
      "\n"
     ]
    }
   ],
   "source": [
    "df_year.show()"
   ]
  },
  {
   "cell_type": "code",
   "execution_count": 52,
   "metadata": {},
   "outputs": [],
   "source": [
    "df_year = df_year.select(['year', format_number('average_price', 0)])"
   ]
  },
  {
   "cell_type": "code",
   "execution_count": 53,
   "metadata": {},
   "outputs": [
    {
     "name": "stdout",
     "output_type": "stream",
     "text": [
      "+----+-------------------------------+\n",
      "|year|format_number(average_price, 0)|\n",
      "+----+-------------------------------+\n",
      "|2015|                             71|\n",
      "|2013|                             59|\n",
      "|null|                           null|\n",
      "|2014|                             54|\n",
      "|2012|                             45|\n",
      "|2016|                             76|\n",
      "|2011|                             62|\n",
      "|2017|                             85|\n",
      "+----+-------------------------------+\n",
      "\n"
     ]
    }
   ],
   "source": [
    "df_year.show()"
   ]
  },
  {
   "cell_type": "code",
   "execution_count": 54,
   "metadata": {},
   "outputs": [
    {
     "name": "stdout",
     "output_type": "stream",
     "text": [
      "+----+-------------+\n",
      "|year|average_price|\n",
      "+----+-------------+\n",
      "|2015|           71|\n",
      "|2013|           59|\n",
      "|null|         null|\n",
      "|2014|           54|\n",
      "|2012|           45|\n",
      "|2016|           76|\n",
      "|2011|           62|\n",
      "|2017|           85|\n",
      "+----+-------------+\n",
      "\n"
     ]
    }
   ],
   "source": [
    "df_year.withColumnRenamed('format_number(average_price, 0)', 'average_price').show()"
   ]
  },
  {
   "cell_type": "code",
   "execution_count": 55,
   "metadata": {},
   "outputs": [
    {
     "name": "stdout",
     "output_type": "stream",
     "text": [
      "+----+-------------------------------+\n",
      "|year|format_number(average_price, 0)|\n",
      "+----+-------------------------------+\n",
      "|null|                           null|\n",
      "|2011|                             62|\n",
      "|2012|                             45|\n",
      "|2013|                             59|\n",
      "|2014|                             54|\n",
      "|2015|                             71|\n",
      "|2016|                             76|\n",
      "|2017|                             85|\n",
      "+----+-------------------------------+\n",
      "\n"
     ]
    }
   ],
   "source": [
    "df_year.orderBy('year').show()"
   ]
  },
  {
   "cell_type": "markdown",
   "metadata": {},
   "source": [
    "### Thank You!!"
   ]
  }
 ],
 "metadata": {
  "kernelspec": {
   "display_name": "Python 3",
   "language": "python",
   "name": "python3"
  },
  "language_info": {
   "codemirror_mode": {
    "name": "ipython",
    "version": 3
   },
   "file_extension": ".py",
   "mimetype": "text/x-python",
   "name": "python",
   "nbconvert_exporter": "python",
   "pygments_lexer": "ipython3",
   "version": "3.6.9"
  }
 },
 "nbformat": 4,
 "nbformat_minor": 4
}
